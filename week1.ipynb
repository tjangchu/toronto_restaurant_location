{
 "cells": [
  {
   "cell_type": "markdown",
   "metadata": {},
   "source": [
    "# Introduction\n",
    "Toronto downtown core has a ton of restaurants of all sizes and cuisine types because of high foot traffic and these locations also has a relatively high cost of operation which comes as no surprise. So if someone would like to start a cost-efficient restaurant business with potentially low cost of operation, they should ideally take all Toronto neighborhoods into consideration in order to pick the best location. Therefore, for this project, the stakeholder/audience is anyone who is looking to find the best location to start a restaurant business. This study will explore various factors such as neighborhood population, crime rate, existing businesses in the area, etc. \n",
    "\n",
    "In order to have a successful restaurant business in a given area, there are number of extrinsic factors that we need to take into consideration. For purpose of this project, we will assume that below is the top 3 criteria:\n",
    "1. Less number of existing restaurant businesses\n",
    "2. Neighborhood population\n",
    "3. Low crime rate.\n",
    "\n",
    "For criteria #1, we will use the Foursquare API to find the top 10 most common nearby venues. We will then look at the Toronto crime data to further narrow down our search for the neighborhood which fits criteria #2 and #3 best.\n",
    "\n",
    "The target audience of this study is anyone who is looking to start a restaurant business in Toronto area and would like to pick a locatation in relatively low crime rate so that their business have better chance of thriving. "
   ]
  },
  {
   "cell_type": "markdown",
   "metadata": {},
   "source": [
    "# Data\n",
    "\n",
    "We will be using the [Toronto Neighbourhoods Boundary File][crime] from [Kaggle][kaggle] which includes 2014-2019 Crime Data by Neighbourhood. Yearly counts are available for Assault, Auto Theft, Break and Enter, Robbery, Theft Over and Homicide. This data also includes the neighbourhood population based on 2016 Census. The population data can be useful for two things; 1) To normalize the data from yearly crime count to crime per 1000 people and 2) To use it as an indicator for restaurant business demand. \n",
    "\n",
    "From this crime data, we can extract features related to different types of crime such as Assault, Auto Theft, Break and Enter, Robbery, Theft Over and Homicide committed in Toronto area ranging from 2014-2019.\n",
    "\n",
    "In addition to the crime data, we will also be using [geopy.geocoders][geocoder] library to get the coordinates for each of the neighbourhood in the crime data. We will then use the coordinates to explore the Foursqure API to find nearby venue categories for each neighbourhood. Based on Foursquare venue data, we can summarize how many existing restaurants there are in each neighbourhood.\n",
    "\n",
    "[crime]: https://www.kaggle.com/alincijov/toronto-crime-rate-per-neighbourhood\n",
    "[geocoder]: https://pypi.org/project/geocoder/\n",
    "[kaggle]: https://www.kaggle.com/"
   ]
  },
  {
   "cell_type": "code",
   "execution_count": null,
   "metadata": {},
   "outputs": [],
   "source": []
  }
 ],
 "metadata": {
  "kernelspec": {
   "display_name": "Python 3",
   "language": "python",
   "name": "python3"
  },
  "language_info": {
   "codemirror_mode": {
    "name": "ipython",
    "version": 3
   },
   "file_extension": ".py",
   "mimetype": "text/x-python",
   "name": "python",
   "nbconvert_exporter": "python",
   "pygments_lexer": "ipython3",
   "version": "3.8.1"
  }
 },
 "nbformat": 4,
 "nbformat_minor": 5
}
